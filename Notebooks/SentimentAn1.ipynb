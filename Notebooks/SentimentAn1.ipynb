{
 "cells": [
  {
   "cell_type": "code",
   "execution_count": 4,
   "metadata": {},
   "outputs": [],
   "source": [
    "import pandas as pd\n",
    "import numpy as np\n",
    "\n",
    "import nltk\n",
    "from nltk.corpus import stopwords\n",
    "from nltk.tokenize import word_tokenize as wtoken\n",
    "from nltk.stem import PorterStemmer\n",
    "from nltk.corpus import stopwords\n",
    "from nltk.stem import WordNetLemmatizer\n",
    "from nltk.tokenize import word_tokenize\n",
    "\n",
    "\n",
    "import tensorflow as tf\n",
    "import tensorflow_hub as hub\n",
    "from tensorflow.keras import Input\n",
    "from tensorflow.keras.preprocessing.text import one_hot\n",
    "from tensorflow.keras.preprocessing.sequence import pad_sequences\n",
    "from tensorflow.keras.models import Sequential, Model\n",
    "from tensorflow.keras.preprocessing.text import Tokenizer\n",
    "from tensorflow.keras.layers import (Activation, Dropout, Dense, Embedding, Flatten, BatchNormalization, GlobalMaxPooling1D, Lambda, concatenate, LSTM, Concatenate)\n",
    "from tensorflow.keras.optimizers import Adam, RMSprop\n",
    "from tensorflow.keras.utils import plot_model\n",
    "from tensorflow.keras import backend as K\n",
    "\n",
    "from sklearn.model_selection import train_test_split\n",
    "from sklearn.preprocessing import LabelEncoder\n",
    "\n",
    "import os, string, gc, re\n",
    "\n",
    "from tqdm import tqdm\n",
    "\n",
    "\n",
    "import tldextract as tld\n",
    "\n",
    "\n",
    "from wordcloud import WordCloud\n",
    "import matplotlib.pyplot as plt\n",
    "%matplotlib inline"
   ]
  },
  {
   "cell_type": "code",
   "execution_count": 5,
   "metadata": {},
   "outputs": [
    {
     "name": "stdout",
     "output_type": "stream",
     "text": [
      "2.0.0\n",
      "Num GPUs Available:  1\n"
     ]
    }
   ],
   "source": [
    "print(tf.__version__)\n",
    "print(\"Num GPUs Available: \", len(tf.config.experimental.list_physical_devices('GPU')))"
   ]
  },
  {
   "cell_type": "code",
   "execution_count": 6,
   "metadata": {},
   "outputs": [],
   "source": [
    "def test_tf_gpu():\n",
    "    tf.debugging.set_log_device_placement(True)\n",
    "    # Create some tensors\n",
    "    a = tf.constant([[1.0, 2.0, 3.0], [4.0, 5.0, 6.0]])\n",
    "    b = tf.constant([[1.0, 2.0], [3.0, 4.0], [5.0, 6.0]])\n",
    "    c = tf.matmul(a, b)\n",
    "    print(c)"
   ]
  },
  {
   "cell_type": "code",
   "execution_count": 4,
   "metadata": {},
   "outputs": [],
   "source": [
    "features = ['question_title', 'question_body', 'answer']"
   ]
  },
  {
   "cell_type": "code",
   "execution_count": 5,
   "metadata": {},
   "outputs": [],
   "source": [
    "train = pd.read_csv('../kaggle/input/google-quest-challenge/train.csv', usecols = features)\n",
    "test = pd.read_csv('../kaggle/input/google-quest-challenge/test.csv', usecols = features)\n",
    "submission = pd.read_csv('../kaggle/input/google-quest-challenge/sample_submission.csv')"
   ]
  },
  {
   "cell_type": "code",
   "execution_count": 6,
   "metadata": {},
   "outputs": [],
   "source": [
    "Y =  pd.read_csv('../kaggle/input/google-quest-challenge/train.csv', usecols = submission.columns.values)\n",
    "Y.pop('qa_id');"
   ]
  },
  {
   "cell_type": "code",
   "execution_count": 7,
   "metadata": {},
   "outputs": [
    {
     "data": {
      "text/plain": [
       "(6079, 3)"
      ]
     },
     "execution_count": 7,
     "metadata": {},
     "output_type": "execute_result"
    }
   ],
   "source": [
    "train.shape"
   ]
  },
  {
   "cell_type": "code",
   "execution_count": 8,
   "metadata": {},
   "outputs": [
    {
     "data": {
      "text/plain": [
       "(476, 3)"
      ]
     },
     "execution_count": 8,
     "metadata": {},
     "output_type": "execute_result"
    }
   ],
   "source": [
    "test.shape"
   ]
  },
  {
   "cell_type": "markdown",
   "metadata": {},
   "source": [
    "# For pre-processing uniformality, test data will be appended to train data without reindexing."
   ]
  },
  {
   "cell_type": "code",
   "execution_count": 9,
   "metadata": {},
   "outputs": [],
   "source": [
    "X = train.append(test)"
   ]
  },
  {
   "cell_type": "code",
   "execution_count": 10,
   "metadata": {},
   "outputs": [
    {
     "data": {
      "text/html": [
       "<div>\n",
       "<style scoped>\n",
       "    .dataframe tbody tr th:only-of-type {\n",
       "        vertical-align: middle;\n",
       "    }\n",
       "\n",
       "    .dataframe tbody tr th {\n",
       "        vertical-align: top;\n",
       "    }\n",
       "\n",
       "    .dataframe thead th {\n",
       "        text-align: right;\n",
       "    }\n",
       "</style>\n",
       "<table border=\"1\" class=\"dataframe\">\n",
       "  <thead>\n",
       "    <tr style=\"text-align: right;\">\n",
       "      <th></th>\n",
       "      <th>question_title</th>\n",
       "      <th>question_body</th>\n",
       "      <th>answer</th>\n",
       "    </tr>\n",
       "  </thead>\n",
       "  <tbody>\n",
       "    <tr>\n",
       "      <th>0</th>\n",
       "      <td>What am I losing when using extension tubes in...</td>\n",
       "      <td>After playing around with macro photography on...</td>\n",
       "      <td>I just got extension tubes, so here's the skin...</td>\n",
       "    </tr>\n",
       "    <tr>\n",
       "      <th>1</th>\n",
       "      <td>What is the distinction between a city and a s...</td>\n",
       "      <td>I am trying to understand what kinds of places...</td>\n",
       "      <td>It might be helpful to look into the definitio...</td>\n",
       "    </tr>\n",
       "  </tbody>\n",
       "</table>\n",
       "</div>"
      ],
      "text/plain": [
       "                                      question_title  \\\n",
       "0  What am I losing when using extension tubes in...   \n",
       "1  What is the distinction between a city and a s...   \n",
       "\n",
       "                                       question_body  \\\n",
       "0  After playing around with macro photography on...   \n",
       "1  I am trying to understand what kinds of places...   \n",
       "\n",
       "                                              answer  \n",
       "0  I just got extension tubes, so here's the skin...  \n",
       "1  It might be helpful to look into the definitio...  "
      ]
     },
     "execution_count": 10,
     "metadata": {},
     "output_type": "execute_result"
    }
   ],
   "source": [
    "X.head(2)"
   ]
  },
  {
   "cell_type": "code",
   "execution_count": 11,
   "metadata": {},
   "outputs": [
    {
     "data": {
      "text/html": [
       "<div>\n",
       "<style scoped>\n",
       "    .dataframe tbody tr th:only-of-type {\n",
       "        vertical-align: middle;\n",
       "    }\n",
       "\n",
       "    .dataframe tbody tr th {\n",
       "        vertical-align: top;\n",
       "    }\n",
       "\n",
       "    .dataframe thead th {\n",
       "        text-align: right;\n",
       "    }\n",
       "</style>\n",
       "<table border=\"1\" class=\"dataframe\">\n",
       "  <thead>\n",
       "    <tr style=\"text-align: right;\">\n",
       "      <th></th>\n",
       "      <th>question_asker_intent_understanding</th>\n",
       "      <th>question_body_critical</th>\n",
       "      <th>question_conversational</th>\n",
       "      <th>question_expect_short_answer</th>\n",
       "      <th>question_fact_seeking</th>\n",
       "      <th>question_has_commonly_accepted_answer</th>\n",
       "      <th>question_interestingness_others</th>\n",
       "      <th>question_interestingness_self</th>\n",
       "      <th>question_multi_intent</th>\n",
       "      <th>question_not_really_a_question</th>\n",
       "      <th>...</th>\n",
       "      <th>question_well_written</th>\n",
       "      <th>answer_helpful</th>\n",
       "      <th>answer_level_of_information</th>\n",
       "      <th>answer_plausible</th>\n",
       "      <th>answer_relevance</th>\n",
       "      <th>answer_satisfaction</th>\n",
       "      <th>answer_type_instructions</th>\n",
       "      <th>answer_type_procedure</th>\n",
       "      <th>answer_type_reason_explanation</th>\n",
       "      <th>answer_well_written</th>\n",
       "    </tr>\n",
       "  </thead>\n",
       "  <tbody>\n",
       "    <tr>\n",
       "      <th>0</th>\n",
       "      <td>1.0</td>\n",
       "      <td>0.333333</td>\n",
       "      <td>0.0</td>\n",
       "      <td>0.0</td>\n",
       "      <td>0.0</td>\n",
       "      <td>0.0</td>\n",
       "      <td>1.000000</td>\n",
       "      <td>1.000000</td>\n",
       "      <td>0.000000</td>\n",
       "      <td>0.0</td>\n",
       "      <td>...</td>\n",
       "      <td>1.000000</td>\n",
       "      <td>1.000000</td>\n",
       "      <td>0.666667</td>\n",
       "      <td>1.000000</td>\n",
       "      <td>1.000000</td>\n",
       "      <td>0.800000</td>\n",
       "      <td>1.0</td>\n",
       "      <td>0.0</td>\n",
       "      <td>0.000000</td>\n",
       "      <td>1.000000</td>\n",
       "    </tr>\n",
       "    <tr>\n",
       "      <th>1</th>\n",
       "      <td>1.0</td>\n",
       "      <td>1.000000</td>\n",
       "      <td>0.0</td>\n",
       "      <td>0.5</td>\n",
       "      <td>1.0</td>\n",
       "      <td>1.0</td>\n",
       "      <td>0.444444</td>\n",
       "      <td>0.444444</td>\n",
       "      <td>0.666667</td>\n",
       "      <td>0.0</td>\n",
       "      <td>...</td>\n",
       "      <td>0.888889</td>\n",
       "      <td>0.888889</td>\n",
       "      <td>0.555556</td>\n",
       "      <td>0.888889</td>\n",
       "      <td>0.888889</td>\n",
       "      <td>0.666667</td>\n",
       "      <td>0.0</td>\n",
       "      <td>0.0</td>\n",
       "      <td>0.666667</td>\n",
       "      <td>0.888889</td>\n",
       "    </tr>\n",
       "  </tbody>\n",
       "</table>\n",
       "<p>2 rows × 30 columns</p>\n",
       "</div>"
      ],
      "text/plain": [
       "   question_asker_intent_understanding  question_body_critical  \\\n",
       "0                                  1.0                0.333333   \n",
       "1                                  1.0                1.000000   \n",
       "\n",
       "   question_conversational  question_expect_short_answer  \\\n",
       "0                      0.0                           0.0   \n",
       "1                      0.0                           0.5   \n",
       "\n",
       "   question_fact_seeking  question_has_commonly_accepted_answer  \\\n",
       "0                    0.0                                    0.0   \n",
       "1                    1.0                                    1.0   \n",
       "\n",
       "   question_interestingness_others  question_interestingness_self  \\\n",
       "0                         1.000000                       1.000000   \n",
       "1                         0.444444                       0.444444   \n",
       "\n",
       "   question_multi_intent  question_not_really_a_question  ...  \\\n",
       "0               0.000000                             0.0  ...   \n",
       "1               0.666667                             0.0  ...   \n",
       "\n",
       "   question_well_written  answer_helpful  answer_level_of_information  \\\n",
       "0               1.000000        1.000000                     0.666667   \n",
       "1               0.888889        0.888889                     0.555556   \n",
       "\n",
       "   answer_plausible  answer_relevance  answer_satisfaction  \\\n",
       "0          1.000000          1.000000             0.800000   \n",
       "1          0.888889          0.888889             0.666667   \n",
       "\n",
       "   answer_type_instructions  answer_type_procedure  \\\n",
       "0                       1.0                    0.0   \n",
       "1                       0.0                    0.0   \n",
       "\n",
       "   answer_type_reason_explanation  answer_well_written  \n",
       "0                        0.000000             1.000000  \n",
       "1                        0.666667             0.888889  \n",
       "\n",
       "[2 rows x 30 columns]"
      ]
     },
     "execution_count": 11,
     "metadata": {},
     "output_type": "execute_result"
    }
   ],
   "source": [
    "Y.head(2)"
   ]
  },
  {
   "cell_type": "code",
   "execution_count": 12,
   "metadata": {},
   "outputs": [
    {
     "data": {
      "text/plain": [
       "(6079, 30)"
      ]
     },
     "execution_count": 12,
     "metadata": {},
     "output_type": "execute_result"
    }
   ],
   "source": [
    "Y.shape"
   ]
  },
  {
   "cell_type": "markdown",
   "metadata": {},
   "source": [
    "# Convert all words to lower, this helps when using NLTK functions since they are use lower case words, e.g. the stopwords list."
   ]
  },
  {
   "cell_type": "code",
   "execution_count": 13,
   "metadata": {},
   "outputs": [
    {
     "name": "stderr",
     "output_type": "stream",
     "text": [
      "100%|██████████| 3/3 [00:00<00:00, 83.19it/s]\n"
     ]
    }
   ],
   "source": [
    "for f in tqdm(X.columns.values):\n",
    "    X[f] = X[f].str.lower()"
   ]
  },
  {
   "cell_type": "code",
   "execution_count": 14,
   "metadata": {},
   "outputs": [
    {
     "data": {
      "text/html": [
       "<div>\n",
       "<style scoped>\n",
       "    .dataframe tbody tr th:only-of-type {\n",
       "        vertical-align: middle;\n",
       "    }\n",
       "\n",
       "    .dataframe tbody tr th {\n",
       "        vertical-align: top;\n",
       "    }\n",
       "\n",
       "    .dataframe thead th {\n",
       "        text-align: right;\n",
       "    }\n",
       "</style>\n",
       "<table border=\"1\" class=\"dataframe\">\n",
       "  <thead>\n",
       "    <tr style=\"text-align: right;\">\n",
       "      <th></th>\n",
       "      <th>question_title</th>\n",
       "      <th>question_body</th>\n",
       "      <th>answer</th>\n",
       "    </tr>\n",
       "  </thead>\n",
       "  <tbody>\n",
       "    <tr>\n",
       "      <th>0</th>\n",
       "      <td>what am i losing when using extension tubes in...</td>\n",
       "      <td>after playing around with macro photography on...</td>\n",
       "      <td>i just got extension tubes, so here's the skin...</td>\n",
       "    </tr>\n",
       "    <tr>\n",
       "      <th>1</th>\n",
       "      <td>what is the distinction between a city and a s...</td>\n",
       "      <td>i am trying to understand what kinds of places...</td>\n",
       "      <td>it might be helpful to look into the definitio...</td>\n",
       "    </tr>\n",
       "  </tbody>\n",
       "</table>\n",
       "</div>"
      ],
      "text/plain": [
       "                                      question_title  \\\n",
       "0  what am i losing when using extension tubes in...   \n",
       "1  what is the distinction between a city and a s...   \n",
       "\n",
       "                                       question_body  \\\n",
       "0  after playing around with macro photography on...   \n",
       "1  i am trying to understand what kinds of places...   \n",
       "\n",
       "                                              answer  \n",
       "0  i just got extension tubes, so here's the skin...  \n",
       "1  it might be helpful to look into the definitio...  "
      ]
     },
     "execution_count": 14,
     "metadata": {},
     "output_type": "execute_result"
    }
   ],
   "source": [
    "X.head(2)"
   ]
  },
  {
   "cell_type": "markdown",
   "metadata": {},
   "source": [
    "# Word based Tokenization with NLTK"
   ]
  },
  {
   "cell_type": "code",
   "execution_count": 15,
   "metadata": {},
   "outputs": [
    {
     "name": "stderr",
     "output_type": "stream",
     "text": [
      "100%|██████████| 6555/6555 [00:05<00:00, 1103.52it/s]\n"
     ]
    }
   ],
   "source": [
    "tokenized_answer=[]\n",
    "\n",
    "for doc in tqdm(X.answer):\n",
    "    tokenized_answer.append(word_tokenize(doc))"
   ]
  },
  {
   "cell_type": "code",
   "execution_count": 16,
   "metadata": {},
   "outputs": [
    {
     "name": "stderr",
     "output_type": "stream",
     "text": [
      "100%|██████████| 6555/6555 [00:05<00:00, 1185.97it/s]\n"
     ]
    }
   ],
   "source": [
    "tokenized_question_body=[]\n",
    "for doc in tqdm(X.question_body):\n",
    "    tokenized_question_body.append(word_tokenize(doc))"
   ]
  },
  {
   "cell_type": "code",
   "execution_count": 17,
   "metadata": {},
   "outputs": [
    {
     "name": "stderr",
     "output_type": "stream",
     "text": [
      "100%|██████████| 6555/6555 [00:00<00:00, 10951.06it/s]\n"
     ]
    }
   ],
   "source": [
    "tokenized_question_title=[]\n",
    "for doc in tqdm(X.question_title):\n",
    "    tokenized_question_title.append(word_tokenize(doc))"
   ]
  },
  {
   "cell_type": "markdown",
   "metadata": {},
   "source": [
    "# Cleaning the text from non english alphabet, non meanningful characters and short/very long words"
   ]
  },
  {
   "cell_type": "code",
   "execution_count": 18,
   "metadata": {},
   "outputs": [],
   "source": [
    "def remove_non_english(text):\n",
    "    result = []\n",
    "    \n",
    "    for words in tqdm(text):\n",
    "        result.append([x.replace(re.sub(r'[aA-zZ]',r'',x), '') for x in words])\n",
    "    return result"
   ]
  },
  {
   "cell_type": "code",
   "execution_count": 19,
   "metadata": {},
   "outputs": [],
   "source": [
    "def remove_nonalpha(text):\n",
    "    \n",
    "    result = []\n",
    "    \n",
    "    for w in tqdm(text):\n",
    "        \n",
    "        result.append([x for x in w if x.isalpha() and x.isascii()])\n",
    "    \n",
    "    return result"
   ]
  },
  {
   "cell_type": "code",
   "execution_count": 20,
   "metadata": {},
   "outputs": [],
   "source": [
    "def remove_char(text, c=''):\n",
    "    result = []\n",
    "    for w in tqdm(text):\n",
    "        result.append([x for x in w if x !=c])\n",
    "    return result"
   ]
  },
  {
   "cell_type": "code",
   "execution_count": 21,
   "metadata": {},
   "outputs": [],
   "source": [
    "def remove_long_words(pd_series):\n",
    "    # expects a pandas Seires \n",
    "    # removes any word by its length range( 4-12 chars)\n",
    "    # returns a list of strings\n",
    "    result = []\n",
    "    result = tqdm(pd_series.str.findall('\\w{4,12}').str.join(' '))\n",
    "    return result"
   ]
  },
  {
   "cell_type": "code",
   "execution_count": 22,
   "metadata": {},
   "outputs": [],
   "source": [
    "def remove_words(text, min_length = 4, max_length = 12):\n",
    "    result = []\n",
    "    for w in tqdm(text):\n",
    "        result.append([x for x in w if len(x) in range(min_length, max_length)])\n",
    "    return result"
   ]
  },
  {
   "cell_type": "code",
   "execution_count": 23,
   "metadata": {},
   "outputs": [
    {
     "name": "stderr",
     "output_type": "stream",
     "text": [
      "100%|██████████| 6555/6555 [00:00<00:00, 60193.98it/s]\n",
      "100%|██████████| 6555/6555 [00:00<00:00, 126524.57it/s]\n",
      "100%|██████████| 6555/6555 [00:00<00:00, 32055.70it/s]\n"
     ]
    }
   ],
   "source": [
    "tokenized_answer= remove_nonalpha(tokenized_answer)\n",
    "\n",
    "X['answer'] = remove_char(tokenized_answer)\n",
    "\n",
    "X['answer'] = remove_words(X['answer'])"
   ]
  },
  {
   "cell_type": "code",
   "execution_count": 24,
   "metadata": {},
   "outputs": [
    {
     "name": "stderr",
     "output_type": "stream",
     "text": [
      "100%|██████████| 6555/6555 [00:00<00:00, 54369.79it/s]\n",
      "100%|██████████| 6555/6555 [00:00<00:00, 136702.10it/s]\n",
      "100%|██████████| 6555/6555 [00:00<00:00, 33118.99it/s]\n"
     ]
    }
   ],
   "source": [
    "tokenized_question_body= remove_nonalpha(tokenized_question_body)\n",
    "\n",
    "X['question_body'] = remove_char(tokenized_question_body)\n",
    "\n",
    "X['question_body'] = remove_words(X['question_body'])"
   ]
  },
  {
   "cell_type": "code",
   "execution_count": 25,
   "metadata": {},
   "outputs": [
    {
     "name": "stderr",
     "output_type": "stream",
     "text": [
      "100%|██████████| 6555/6555 [00:00<00:00, 621887.87it/s]\n",
      "100%|██████████| 6555/6555 [00:00<00:00, 50934.66it/s]\n",
      "100%|██████████| 6555/6555 [00:00<00:00, 278967.71it/s]\n"
     ]
    }
   ],
   "source": [
    "tokenized_question_title= remove_nonalpha(tokenized_question_title)\n",
    "\n",
    "X['question_title'] = remove_char(tokenized_question_title)\n",
    "\n",
    "X['question_title'] = remove_words(X['question_title'])"
   ]
  },
  {
   "cell_type": "code",
   "execution_count": 26,
   "metadata": {},
   "outputs": [
    {
     "data": {
      "text/html": [
       "<div>\n",
       "<style scoped>\n",
       "    .dataframe tbody tr th:only-of-type {\n",
       "        vertical-align: middle;\n",
       "    }\n",
       "\n",
       "    .dataframe tbody tr th {\n",
       "        vertical-align: top;\n",
       "    }\n",
       "\n",
       "    .dataframe thead th {\n",
       "        text-align: right;\n",
       "    }\n",
       "</style>\n",
       "<table border=\"1\" class=\"dataframe\">\n",
       "  <thead>\n",
       "    <tr style=\"text-align: right;\">\n",
       "      <th></th>\n",
       "      <th>question_title</th>\n",
       "      <th>question_body</th>\n",
       "      <th>answer</th>\n",
       "    </tr>\n",
       "  </thead>\n",
       "  <tbody>\n",
       "    <tr>\n",
       "      <th>0</th>\n",
       "      <td>[what, losing, when, using, extension, tubes, ...</td>\n",
       "      <td>[after, playing, around, with, macro, photogra...</td>\n",
       "      <td>[just, extension, tubes, here, skinny, what, l...</td>\n",
       "    </tr>\n",
       "    <tr>\n",
       "      <th>1</th>\n",
       "      <td>[what, distinction, between, city, between, do...</td>\n",
       "      <td>[trying, understand, what, kinds, places, spam...</td>\n",
       "      <td>[might, helpful, look, into, definition, spam,...</td>\n",
       "    </tr>\n",
       "  </tbody>\n",
       "</table>\n",
       "</div>"
      ],
      "text/plain": [
       "                                      question_title  \\\n",
       "0  [what, losing, when, using, extension, tubes, ...   \n",
       "1  [what, distinction, between, city, between, do...   \n",
       "\n",
       "                                       question_body  \\\n",
       "0  [after, playing, around, with, macro, photogra...   \n",
       "1  [trying, understand, what, kinds, places, spam...   \n",
       "\n",
       "                                              answer  \n",
       "0  [just, extension, tubes, here, skinny, what, l...  \n",
       "1  [might, helpful, look, into, definition, spam,...  "
      ]
     },
     "execution_count": 26,
     "metadata": {},
     "output_type": "execute_result"
    }
   ],
   "source": [
    "X.head(2)"
   ]
  },
  {
   "cell_type": "markdown",
   "metadata": {},
   "source": [
    "# Remvoing Stop words"
   ]
  },
  {
   "cell_type": "code",
   "execution_count": 27,
   "metadata": {},
   "outputs": [
    {
     "name": "stderr",
     "output_type": "stream",
     "text": [
      "100%|██████████| 3/3 [00:01<00:00,  2.04it/s]\n"
     ]
    }
   ],
   "source": [
    "stop_words = stopwords.words('english')\n",
    "for f in tqdm(['question_title', 'question_body', 'answer']):\n",
    "    X[f] = X[f].apply(lambda x: [word for word in x if word not in stop_words])"
   ]
  },
  {
   "cell_type": "code",
   "execution_count": 28,
   "metadata": {},
   "outputs": [
    {
     "data": {
      "text/html": [
       "<div>\n",
       "<style scoped>\n",
       "    .dataframe tbody tr th:only-of-type {\n",
       "        vertical-align: middle;\n",
       "    }\n",
       "\n",
       "    .dataframe tbody tr th {\n",
       "        vertical-align: top;\n",
       "    }\n",
       "\n",
       "    .dataframe thead th {\n",
       "        text-align: right;\n",
       "    }\n",
       "</style>\n",
       "<table border=\"1\" class=\"dataframe\">\n",
       "  <thead>\n",
       "    <tr style=\"text-align: right;\">\n",
       "      <th></th>\n",
       "      <th>question_title</th>\n",
       "      <th>question_body</th>\n",
       "      <th>answer</th>\n",
       "    </tr>\n",
       "  </thead>\n",
       "  <tbody>\n",
       "    <tr>\n",
       "      <th>0</th>\n",
       "      <td>[losing, using, extension, tubes, instead, mac...</td>\n",
       "      <td>[playing, around, macro, photography, read, re...</td>\n",
       "      <td>[extension, tubes, skinny, losing, using, tube...</td>\n",
       "    </tr>\n",
       "    <tr>\n",
       "      <th>1</th>\n",
       "      <td>[distinction, city, downtown, commercial, dist...</td>\n",
       "      <td>[trying, understand, kinds, places, spam, valu...</td>\n",
       "      <td>[might, helpful, look, definition, spam, zone,...</td>\n",
       "    </tr>\n",
       "  </tbody>\n",
       "</table>\n",
       "</div>"
      ],
      "text/plain": [
       "                                      question_title  \\\n",
       "0  [losing, using, extension, tubes, instead, mac...   \n",
       "1  [distinction, city, downtown, commercial, dist...   \n",
       "\n",
       "                                       question_body  \\\n",
       "0  [playing, around, macro, photography, read, re...   \n",
       "1  [trying, understand, kinds, places, spam, valu...   \n",
       "\n",
       "                                              answer  \n",
       "0  [extension, tubes, skinny, losing, using, tube...  \n",
       "1  [might, helpful, look, definition, spam, zone,...  "
      ]
     },
     "execution_count": 28,
     "metadata": {},
     "output_type": "execute_result"
    }
   ],
   "source": [
    "X.head(2)"
   ]
  },
  {
   "cell_type": "code",
   "execution_count": 29,
   "metadata": {},
   "outputs": [
    {
     "name": "stderr",
     "output_type": "stream",
     "text": [
      "100%|██████████| 3/3 [00:03<00:00,  1.16s/it]\n"
     ]
    }
   ],
   "source": [
    "lemmatizer = WordNetLemmatizer() \n",
    "\n",
    "for f in tqdm(X.columns):\n",
    "     X[f] = X[f].apply(lambda x: [lemmatizer.lemmatize(word) for word in x])"
   ]
  },
  {
   "cell_type": "code",
   "execution_count": 30,
   "metadata": {},
   "outputs": [
    {
     "name": "stdout",
     "output_type": "stream",
     "text": [
      "                                      question_title  \\\n",
      "0  [losing, using, extension, tube, instead, macr...   \n",
      "1  [distinction, city, downtown, commercial, dist...   \n",
      "2       [maximum, protusion, length, component, pin]   \n",
      "\n",
      "                                       question_body  \\\n",
      "0  [playing, around, macro, photography, read, re...   \n",
      "1  [trying, understand, kind, place, spam, value,...   \n",
      "2  [working, component, side, board, side, board,...   \n",
      "\n",
      "                                              answer  \n",
      "0  [extension, tube, skinny, losing, using, tube,...  \n",
      "1  [might, helpful, look, definition, spam, zone,...  \n",
      "2  [even, need, groove, make, several, product, u...  \n"
     ]
    }
   ],
   "source": [
    "print(X.head(3))"
   ]
  },
  {
   "cell_type": "markdown",
   "metadata": {},
   "source": [
    "# Transformer universal-sentence-encoder-large/5"
   ]
  },
  {
   "cell_type": "code",
   "execution_count": null,
   "metadata": {},
   "outputs": [],
   "source": [
    "# Cache the model\n",
    "# embed = hub.load('../kaggle/input/google-quest-challenge/USE5')\n",
    "\n",
    "embed = hub.load('https://tfhub.dev/google/universal-sentence-encoder/4')\n"
   ]
  },
  {
   "cell_type": "code",
   "execution_count": null,
   "metadata": {},
   "outputs": [],
   "source": [
    "def universal_embedding(input):\n",
    "    return embed(tf.squeeze((tf.cast(input, tf.string))))"
   ]
  },
  {
   "cell_type": "markdown",
   "metadata": {},
   "source": [
    "# It looks like using swish activation is (sometimes) better than RELU in NLP Tasks\n",
    "## Source (paper): https://www.aclweb.org/anthology/D18-1472.pdf"
   ]
  },
  {
   "cell_type": "code",
   "execution_count": null,
   "metadata": {},
   "outputs": [],
   "source": [
    "def swish(x):\n",
    "    return K.sigmoid(x) * x"
   ]
  },
  {
   "cell_type": "markdown",
   "metadata": {},
   "source": [
    "# Extract train and test datasets back from X.."
   ]
  },
  {
   "cell_type": "code",
   "execution_count": 34,
   "metadata": {},
   "outputs": [
    {
     "name": "stdout",
     "output_type": "stream",
     "text": [
      "(6079, 3)\n"
     ]
    },
    {
     "data": {
      "text/html": [
       "<div>\n",
       "<style scoped>\n",
       "    .dataframe tbody tr th:only-of-type {\n",
       "        vertical-align: middle;\n",
       "    }\n",
       "\n",
       "    .dataframe tbody tr th {\n",
       "        vertical-align: top;\n",
       "    }\n",
       "\n",
       "    .dataframe thead th {\n",
       "        text-align: right;\n",
       "    }\n",
       "</style>\n",
       "<table border=\"1\" class=\"dataframe\">\n",
       "  <thead>\n",
       "    <tr style=\"text-align: right;\">\n",
       "      <th></th>\n",
       "      <th>question_title</th>\n",
       "      <th>question_body</th>\n",
       "      <th>answer</th>\n",
       "    </tr>\n",
       "  </thead>\n",
       "  <tbody>\n",
       "    <tr>\n",
       "      <th>0</th>\n",
       "      <td>[losing, using, extension, tube, instead, macr...</td>\n",
       "      <td>[playing, around, macro, photography, read, re...</td>\n",
       "      <td>[extension, tube, skinny, losing, using, tube,...</td>\n",
       "    </tr>\n",
       "    <tr>\n",
       "      <th>1</th>\n",
       "      <td>[distinction, city, downtown, commercial, dist...</td>\n",
       "      <td>[trying, understand, kind, place, spam, value,...</td>\n",
       "      <td>[might, helpful, look, definition, spam, zone,...</td>\n",
       "    </tr>\n",
       "  </tbody>\n",
       "</table>\n",
       "</div>"
      ],
      "text/plain": [
       "                                      question_title  \\\n",
       "0  [losing, using, extension, tube, instead, macr...   \n",
       "1  [distinction, city, downtown, commercial, dist...   \n",
       "\n",
       "                                       question_body  \\\n",
       "0  [playing, around, macro, photography, read, re...   \n",
       "1  [trying, understand, kind, place, spam, value,...   \n",
       "\n",
       "                                              answer  \n",
       "0  [extension, tube, skinny, losing, using, tube,...  \n",
       "1  [might, helpful, look, definition, spam, zone,...  "
      ]
     },
     "execution_count": 34,
     "metadata": {},
     "output_type": "execute_result"
    }
   ],
   "source": [
    "train = X.iloc[:train.shape[0], :]\n",
    "gc.collect()\n",
    "print(train.shape)\n",
    "train.head(2)"
   ]
  },
  {
   "cell_type": "code",
   "execution_count": 35,
   "metadata": {},
   "outputs": [
    {
     "name": "stdout",
     "output_type": "stream",
     "text": [
      "(476, 3)\n"
     ]
    }
   ],
   "source": [
    "test = X.iloc[train.shape[0]:,:]\n",
    "gc.collect()\n",
    "print(test.shape)\n"
   ]
  },
  {
   "cell_type": "code",
   "execution_count": 36,
   "metadata": {},
   "outputs": [
    {
     "data": {
      "text/html": [
       "<div>\n",
       "<style scoped>\n",
       "    .dataframe tbody tr th:only-of-type {\n",
       "        vertical-align: middle;\n",
       "    }\n",
       "\n",
       "    .dataframe tbody tr th {\n",
       "        vertical-align: top;\n",
       "    }\n",
       "\n",
       "    .dataframe thead th {\n",
       "        text-align: right;\n",
       "    }\n",
       "</style>\n",
       "<table border=\"1\" class=\"dataframe\">\n",
       "  <thead>\n",
       "    <tr style=\"text-align: right;\">\n",
       "      <th></th>\n",
       "      <th>question_title</th>\n",
       "      <th>question_body</th>\n",
       "      <th>answer</th>\n",
       "    </tr>\n",
       "  </thead>\n",
       "  <tbody>\n",
       "    <tr>\n",
       "      <th>471</th>\n",
       "      <td>[change, enumeration, chapter]</td>\n",
       "      <td>[using, glossing, example, thesis, would, like...</td>\n",
       "      <td>[simply, reset, counter, command, borrowed, li...</td>\n",
       "    </tr>\n",
       "    <tr>\n",
       "      <th>472</th>\n",
       "      <td>[anagram, file]</td>\n",
       "      <td>[source, microsoft, interview, question, given...</td>\n",
       "      <td>[slightly, different, approach, returning, has...</td>\n",
       "    </tr>\n",
       "    <tr>\n",
       "      <th>473</th>\n",
       "      <td>[server, time, series, table, design]</td>\n",
       "      <td>[creating, time, series, database, follows, ta...</td>\n",
       "      <td>[foreign, reference, unique, constraint, neces...</td>\n",
       "    </tr>\n",
       "    <tr>\n",
       "      <th>474</th>\n",
       "      <td>[countered, flashback, spell, exiled]</td>\n",
       "      <td>[flashback, past, flame, countered, cancel, ex...</td>\n",
       "      <td>[counter, spell, cast, flashback, cost, gravey...</td>\n",
       "    </tr>\n",
       "    <tr>\n",
       "      <th>475</th>\n",
       "      <td>[find, friend]</td>\n",
       "      <td>[mark, friend, queued, steam, friend, even, el...</td>\n",
       "      <td>[officially, although, could, preferred, colou...</td>\n",
       "    </tr>\n",
       "  </tbody>\n",
       "</table>\n",
       "</div>"
      ],
      "text/plain": [
       "                            question_title  \\\n",
       "471         [change, enumeration, chapter]   \n",
       "472                        [anagram, file]   \n",
       "473  [server, time, series, table, design]   \n",
       "474  [countered, flashback, spell, exiled]   \n",
       "475                         [find, friend]   \n",
       "\n",
       "                                         question_body  \\\n",
       "471  [using, glossing, example, thesis, would, like...   \n",
       "472  [source, microsoft, interview, question, given...   \n",
       "473  [creating, time, series, database, follows, ta...   \n",
       "474  [flashback, past, flame, countered, cancel, ex...   \n",
       "475  [mark, friend, queued, steam, friend, even, el...   \n",
       "\n",
       "                                                answer  \n",
       "471  [simply, reset, counter, command, borrowed, li...  \n",
       "472  [slightly, different, approach, returning, has...  \n",
       "473  [foreign, reference, unique, constraint, neces...  \n",
       "474  [counter, spell, cast, flashback, cost, gravey...  \n",
       "475  [officially, although, could, preferred, colou...  "
      ]
     },
     "execution_count": 36,
     "metadata": {},
     "output_type": "execute_result"
    }
   ],
   "source": [
    "test.tail()"
   ]
  },
  {
   "cell_type": "markdown",
   "metadata": {},
   "source": [
    "# Model Building, Tensorflow 2.0 with tf.keras"
   ]
  },
  {
   "cell_type": "code",
   "execution_count": 43,
   "metadata": {},
   "outputs": [],
   "source": [
    "title_input  = Input(shape=(1,), name='title')  # Variable-length sequence of ints\n",
    "\n",
    "body_input   = Input(shape=(1,), name='body')  # Variable-length sequence of ints\n",
    "\n",
    "answer_input = Input(shape=(1,), name='answer')  # Binary vectors of size `num_tags`\n",
    "\n",
    "# Embed each word in the title into a 512 dimensional vector using Universal Sentence Encoder (L5)\n",
    "enc_title  = Lambda(universal_embedding, output_shape = (512,) )(title_input)\n",
    "enc_body   = Lambda(universal_embedding, output_shape = (512,) )(body_input)\n",
    "enc_answer = Lambda(universal_embedding, output_shape = (512,) )(answer_input)\n",
    "\n",
    "\n",
    "\n",
    "x = Concatenate()([enc_title, enc_body, enc_answer])\n",
    "#x = Dropout(0.5)(x)\n",
    "#x = BatchNormalization()(x)\n",
    "#x = Dense(512, activation=swish)(x)\n",
    "#x = Dropout(0.5)(x)\n",
    "#x = BatchNormalization()(x)\n",
    "output = Dense(30, activation='sigmoid', name='output')(x)\n",
    "\n",
    "model = Model(inputs=[title_input, body_input, answer_input], outputs=[output])\n",
    "\n",
    "optimizer = tf.keras.optimizers.Adam(0.01)\n",
    "\n",
    "model.compile(optimizer=optimizer, loss='binary_crossentropy')\n"
   ]
  },
  {
   "cell_type": "code",
   "execution_count": 44,
   "metadata": {},
   "outputs": [
    {
     "name": "stdout",
     "output_type": "stream",
     "text": [
      "Model: \"model_1\"\n",
      "__________________________________________________________________________________________________\n",
      "Layer (type)                    Output Shape         Param #     Connected to                     \n",
      "==================================================================================================\n",
      "title (InputLayer)              [(None, 1)]          0                                            \n",
      "__________________________________________________________________________________________________\n",
      "body (InputLayer)               [(None, 1)]          0                                            \n",
      "__________________________________________________________________________________________________\n",
      "answer (InputLayer)             [(None, 1)]          0                                            \n",
      "__________________________________________________________________________________________________\n",
      "lambda_6 (Lambda)               (None, 512)          0           title[0][0]                      \n",
      "__________________________________________________________________________________________________\n",
      "lambda_7 (Lambda)               (None, 512)          0           body[0][0]                       \n",
      "__________________________________________________________________________________________________\n",
      "lambda_8 (Lambda)               (None, 512)          0           answer[0][0]                     \n",
      "__________________________________________________________________________________________________\n",
      "concatenate_2 (Concatenate)     (None, 1536)         0           lambda_6[0][0]                   \n",
      "                                                                 lambda_7[0][0]                   \n",
      "                                                                 lambda_8[0][0]                   \n",
      "__________________________________________________________________________________________________\n",
      "output (Dense)                  (None, 30)           46110       concatenate_2[0][0]              \n",
      "==================================================================================================\n",
      "Total params: 46,110\n",
      "Trainable params: 46,110\n",
      "Non-trainable params: 0\n",
      "__________________________________________________________________________________________________\n"
     ]
    }
   ],
   "source": [
    "model.summary()"
   ]
  },
  {
   "cell_type": "code",
   "execution_count": 40,
   "metadata": {},
   "outputs": [
    {
     "data": {
      "image/png": "[encoded data removed]",
      "text/plain": [
       "<IPython.core.display.Image object>"
      ]
     },
     "execution_count": 40,
     "metadata": {},
     "output_type": "execute_result"
    }
   ],
   "source": [
    "plot_model(model, to_file='model.png', show_shapes = True)"
   ]
  },
  {
   "cell_type": "code",
   "execution_count": 41,
   "metadata": {},
   "outputs": [
    {
     "name": "stderr",
     "output_type": "stream",
     "text": [
      "100%|██████████| 3/3 [00:00<00:00, 3454.00it/s]\n"
     ]
    }
   ],
   "source": [
    "data = []\n",
    "for c in tqdm(train.columns):\n",
    "    data.append(train[c].values)"
   ]
  },
  {
   "cell_type": "code",
   "execution_count": null,
   "metadata": {},
   "outputs": [],
   "source": [
    "history = model.fit(train.values, Y.values, validation_split=0.2, shuffle=True, batch_size=64, epochs=3)"
   ]
  },
  {
   "cell_type": "code",
   "execution_count": null,
   "metadata": {},
   "outputs": [],
   "source": [
    "plt.plot(history.history['loss'])\n",
    "plt.plot(history.history['val_loss'])\n",
    "plt.title('Loss')\n",
    "plt.ylabel('Loss')\n",
    "plt.xlabel('Epoch')\n",
    "plt.legend(['Train', 'Test'], loc='upper left')\n",
    "plt.show()"
   ]
  },
  {
   "cell_type": "code",
   "execution_count": null,
   "metadata": {},
   "outputs": [],
   "source": []
  }
 ],
 "metadata": {
  "kernelspec": {
   "display_name": "Python 3",
   "language": "python",
   "name": "python3"
  },
  "language_info": {
   "codemirror_mode": {
    "name": "ipython",
    "version": 3
   },
   "file_extension": ".py",
   "mimetype": "text/x-python",
   "name": "python",
   "nbconvert_exporter": "python",
   "pygments_lexer": "ipython3",
   "version": "3.7.6"
  }
 },
 "nbformat": 4,
 "nbformat_minor": 4
}
